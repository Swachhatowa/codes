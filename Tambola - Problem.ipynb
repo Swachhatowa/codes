{
 "cells": [
  {
   "cell_type": "markdown",
   "metadata": {},
   "source": [
    "## Bingo – Housie – Tambola "
   ]
  },
  {
   "attachments": {
    "image.png": {
     "image/png": "[encoded data removed]"
    }
   },
   "cell_type": "markdown",
   "metadata": {},
   "source": [
    "![image.png](attachment:image.png)"
   ]
  },
  {
   "cell_type": "markdown",
   "metadata": {},
   "source": [
    "<b> Bingo</b> is a game of probability in which players mark off numbers on cards as the numbers are drawn randomly by a caller, the winner being the first person to mark off all their numbers. (Wikipedia)"
   ]
  },
  {
   "cell_type": "markdown",
   "metadata": {},
   "source": [
    "#### Our ticketing Rules:\n",
    "\n",
    "1.\tEvery ticket has 15 numbers\n",
    "2.\tEvery row has 5\n",
    "3.\tEvery column in a tick can have either 0,1,2 or 3 numbers\n",
    "4.\tAlways arranged in ascending order in a column\n",
    "5.\tColumn (0) can have number from 1 to 9 \t– 9 options\n",
    "6.\tColumn (1) can have number from 10 to 19 \t– 10 options\n",
    "\n",
    "…\n",
    "\n",
    "12.\tColumn (7) can have number from 10 to 19 \t– 10 options\n",
    "13.\tColumn (8) can have number from 80 to 90 \t– 11 options\n"
   ]
  },
  {
   "cell_type": "markdown",
   "metadata": {},
   "source": [
    "----------------"
   ]
  },
  {
   "cell_type": "markdown",
   "metadata": {},
   "source": [
    "--------------"
   ]
  },
  {
   "cell_type": "code",
   "execution_count": 11,
   "metadata": {},
   "outputs": [
    {
     "name": "stdout",
     "output_type": "stream",
     "text": [
      "    0  1  2  3  4  5  6  7  8\n",
      "0   3  3  3  3  3  0  0  0  0\n",
      "1   3  3  3  3  2  1  0  0  0\n",
      "2   3  3  3  3  1  1  1  0  0\n",
      "3   3  3  3  2  2  2  0  0  0\n",
      "4   3  3  3  2  2  1  1  0  0\n",
      "5   3  3  3  2  1  1  1  1  0\n",
      "6   3  3  3  1  1  1  1  1  1\n",
      "7   3  3  2  2  2  2  1  0  0\n",
      "8   3  3  2  2  2  1  1  1  0\n",
      "9   3  3  2  2  1  1  1  1  1\n",
      "10  3  2  2  2  2  2  2  0  0\n",
      "11  3  2  2  2  2  2  1  1  0\n",
      "12  3  2  2  2  2  1  1  1  1\n",
      "13  2  2  2  2  2  2  2  1  0\n",
      "14  2  2  2  2  2  2  1  1  1\n",
      "---------------------------------------\n",
      "      0  1  2  3  4  5  6  7  8\n",
      "0     3  3  3  3  2  1  0  0  0\n",
      "1     3  3  3  3  2  0  1  0  0\n",
      "2     3  3  3  3  2  0  0  1  0\n",
      "3     3  3  3  3  2  0  0  0  1\n",
      "4     3  3  3  3  1  2  0  0  0\n",
      "...  .. .. .. .. .. .. .. .. ..\n",
      "2515  0  0  0  1  3  3  3  3  2\n",
      "2516  0  0  0  1  3  3  3  2  3\n",
      "2517  0  0  0  1  3  3  2  3  3\n",
      "2518  0  0  0  1  3  2  3  3  3\n",
      "2519  0  0  0  1  2  3  3  3  3\n",
      "\n",
      "[2520 rows x 9 columns]\n",
      "---------------------------------------\n",
      "0:00:01.225698\n",
      "Current memory usage is 0.461066MB; Peak was 113.660488MB\n"
     ]
    }
   ],
   "source": [
    "from itertools import combinations_with_replacement\n",
    "#----to measure RAM use and time ----#\n",
    "import tracemalloc\n",
    "from datetime import datetime\n",
    "tracemalloc.start()\n",
    "tstart = datetime.now()\n",
    "#------------------------------------#\n",
    "\n",
    "## one suggestion:\n",
    "#Activity 1:\n",
    "combi = [i for i in combinations_with_replacement([3,2,1,0],9) if sum(i)==15]\n",
    "options = pd.DataFrame(combi).drop_duplicates(keep='first').reset_index(drop=True)\n",
    "print(options)\n",
    "print('---------------------------------------')\n",
    "\n",
    "#Activity 2:\n",
    "## getting the permutations for 1 combination\n",
    "p = permutations(combi[1])\n",
    "p = pd.DataFrame(p)\n",
    "#dropping the duplicates (1st occurence is kept) and printing it out.\n",
    "p = p.drop_duplicates(keep='first').reset_index(drop=True)\n",
    "print(p)\n",
    "\n",
    "print('---------------------------------------')\n",
    "\n",
    "\n",
    "#----to measure RAM use and time ----#    \n",
    "tend = datetime.now()\n",
    "print(tend-tstart)\n",
    "\n",
    "current, peak = tracemalloc.get_traced_memory()\n",
    "print(f\"Current memory usage is {current / 10**6}MB; Peak was {peak / 10**6}MB\")\n",
    "tracemalloc.stop()\n",
    "#------------------------------------#\n"
   ]
  },
  {
   "attachments": {
    "image.png": {
     "image/png": "[encoded data removed]"
    }
   },
   "cell_type": "markdown",
   "metadata": {},
   "source": [
    "## What is the code doing wrt bigger picture\n",
    "\n",
    "-  The code is trying to find the pattern in which we should fill the numbers in the ticket, if a column would have 3/2/1/no numbers. We are finding combinations of having:\n",
    "    - to fill most of the numbers with \\\"three\\\"; 5 \\\"three\\\" numbers can be filled atmost: 3*5 is 15 and rest can be empty(or 0)\n",
    "    - to fill most of the numbers with \\\"two'; 7 \\\"two\\\" numbers can be filled atmost: 7*2 is 14 and rest can be 1 and others empty(or 0)\n",
    "    - to fill most of the numbers with \\\"one\\\"; 6 \\\"one\\\" numbers can be filled atmost. Only then 15 as total number can be achieved. i.e 6*1 + 3*3=15\n",
    "    - similarly to fill most of the numbers with \\\"zero\\\"; atmost possibility is 4 \\\"zeros\\\". Only then 15 as total number can be achieved. i.e 3*5 + 0*4=15\n",
    "\n",
    "So, while finding combinations (3,3,3,3,3,2,2,2,2,2,2,2,1,1,1,1,1,1,0,0,0,0) are kept. Possibly we can use combination with replacement for this step with 0,1,2,3.\n",
    "\n",
    "Combination of [3, 3, 3, 3, 2, 1, 0, 0, 0] would mean:\n",
    "\n",
    "\n",
    "![image.png](attachment:image.png)\n",
    "\n",
    "\n",
    "\n",
    "\n",
    "Further to this we are finding various permutations of this given combination i.e different ways one can have 3 empty columns, 1 column with 1 value, 1 column with 2 values, 4 columns with all values filled in.\n",
    "example- 2 of the permutations for the given combination could be:"
   ]
  },
  {
   "attachments": {
    "image.png": {
     "image/png": "[encoded data removed]"
    }
   },
   "cell_type": "markdown",
   "metadata": {},
   "source": [
    "![image.png](attachment:image.png)"
   ]
  },
  {
   "attachments": {
    "image.png": {
     "image/png": "[encoded data removed]"
    }
   },
   "cell_type": "markdown",
   "metadata": {},
   "source": [
    "![image.png](attachment:image.png)"
   ]
  }
 ],
 "metadata": {
  "kernelspec": {
   "display_name": "Python 3",
   "language": "python",
   "name": "python3"
  },
  "language_info": {
   "codemirror_mode": {
    "name": "ipython",
    "version": 3
   },
   "file_extension": ".py",
   "mimetype": "text/x-python",
   "name": "python",
   "nbconvert_exporter": "python",
   "pygments_lexer": "ipython3",
   "version": "3.7.4"
  }
 },
 "nbformat": 4,
 "nbformat_minor": 2
}
