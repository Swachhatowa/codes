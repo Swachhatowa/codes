{
 "cells": [
  {
   "cell_type": "markdown",
   "metadata": {},
   "source": [
    "contact me @s.goswami2323@gmail.com for any modification/query. Thanks!"
   ]
  },
  {
   "cell_type": "markdown",
   "metadata": {},
   "source": [
    "## What is Code Doing?\n",
    "\n",
    "The data given is month-wise Households and volume of each product for each state.Each state being one tabe of excel. The code is reading each tab of data present in Excel and then getting the volume of product only and removing the households. Finally its clubbing all the states data from each tab and getting all the data in format of \"Month\",\"State\",\"Product\",\"Quantity\". \n",
    "\n",
    "##### At the end we get the below things with the code:\n",
    "1) All states in one column, thats previously present in different tabs.\n",
    "\n",
    "2) All the products in one column, thats present as different columns\n",
    "\n",
    "3) Quantity becomes my another column, Quantity per month per product becomes one row. \n",
    "\n",
    "4) Date stays as another column.\n",
    "\n",
    "                 ---- The code is doing above activities for the existing data and for the prediction required data(which is present from row 80. It is then saving the existing data as Train data and prediction required data as Test data\n",
    "                        \n",
    "                        \n",
    "## Why is it doing so?\n",
    "\n",
    "-- All states in one column would allow me to use this as one Explanatory Variable in training data\n",
    "\n",
    "-- All products in one column again would help me to use this as one Explanatory Variable in training data\n",
    "\n",
    "-- Dates in one column again would allow us to see if there is any seaonality or time wise variation on volume of products. So this is another column that can be used as Explanatory Variable.\n",
    "\n",
    "-- All Volumes in another column would help us getting the Target Variable as one column so this can be the Y variable for my prediction\n",
    "\n",
    "-- All tabs are clubbed so we can use several attributes present like state, product etc as explanatory variables\n",
    "\n",
    "---- One line explanation: we are processing the data to achieve Train and Test data. The train data can be used to train the ML Algo. This trained ML Algo can be used to predict the test data.\n",
    "\n",
    "\n",
    "My take: We can use Regression to predict the volumes since my Traget Variable is continuous\n",
    "\n",
    "\n"
   ]
  },
  {
   "attachments": {
    "image.png": {
     "image/png": "[encoded data removed]"
    }
   },
   "cell_type": "markdown",
   "metadata": {},
   "source": [
    "### Better way of doing it.\n",
    "\n",
    "-- the Python preprocessing code shared \"data pre processing - SuperStore dataset.ipynb\" is taking \"105.40113999999994 seconds\" whereas the one below is taking \"75.78469799999993 seconds\". Checked it by running one code right after another and used time.process_time()\n",
    "\n",
    "-- the Python preprocessing code shared \"data pre processing - SuperStore dataset.ipynb\" is saving the test data till 2018-11-30 - 2019-10-31 but when I saw the actual data it had till 2019-10-31 for which the prediction is required. Hence, in my code, I have kept till 2019-11-30. \n",
    "\n",
    "![image.png](attachment:image.png)\n",
    "\n",
    "\n",
    "-- I defined most of the processing part as a function and used to get the train and test set. "
   ]
  },
  {
   "cell_type": "code",
   "execution_count": 12,
   "metadata": {},
   "outputs": [
    {
     "name": "stdout",
     "output_type": "stream",
     "text": [
      "926.740224 \n",
      " 1002.524922 \n",
      " 75.78469799999993 seconds\n"
     ]
    }
   ],
   "source": [
    "#!/usr/bin/env python3\n",
    "# -*- coding: utf-8 -*-\n",
    "\"\"\"\n",
    "Created on Sat Mar 28 10:18:07 2020\n",
    "\n",
    "@author: Dexter\n",
    "\"\"\"\n",
    "\n",
    "import pandas as pd\n",
    "import numpy as np\n",
    "import os\n",
    "##os.chdir(\"add the link where the superstore data resides\")\n",
    "import time\n",
    "\n",
    "start_time = time.process_time()\n",
    "\n",
    "\n",
    "sheet_list = ['Delhi (U)',\n",
    " 'Punjab_Haryana (U+R)',\n",
    " 'Rajasthan (U+R)',\n",
    " 'Uttar Pradesh (U+R)',\n",
    " 'West Bengal (U+R)',\n",
    " 'Bihar excl Jharkhand (U+R)',\n",
    " 'Jharkhand (U+R)',\n",
    " 'Guwahati (U)',\n",
    " 'Orissa (U+R)',\n",
    " 'Maharashtra (U+R)',\n",
    " 'Gujarat (U+R)',\n",
    " 'Madhya Pradesh excl Chha (U+R)',\n",
    " 'Chhattisgarh (U+R)',\n",
    " 'Tamil Nadu (U+R)',\n",
    " 'Karnataka (U+R)',\n",
    " 'Kerala (U+R)',\n",
    " 'Andhra Pradesh (U+R)']\n",
    "\n",
    "train1=pd.DataFrame(columns = ['Month','State','Product','Qty'])\n",
    "test1=pd.DataFrame(columns = ['Month','State','Product','Qty'])\n",
    "\n",
    "def processing(df,start,i):\n",
    "    df.columns=['Soap_Bar', 'Shampoo', 'Tooth_Paste', 'Metal_Polish', 'Edible_Oil', 'Washing_Powder', 'Ghee', 'Hair_Oil', 'Biscuits']\n",
    "    dates=pd.date_range(start=start, periods=len(df), freq='M')\n",
    "    df=pd.DataFrame(df.stack()).reset_index()\n",
    "    df.drop(['level_0'],axis=1,inplace=True)\n",
    "    df.rename(columns={'level_1':'Product',0:'Qty'},inplace=True)\n",
    "    b=[]\n",
    "    for t in dates:\n",
    "        for u in range(0,9):\n",
    "            b.append(t)\n",
    "        \n",
    "    df[\"Month\"]=b\n",
    "    df[\"State\"]=i.split(\"(\")[0]\n",
    "    col=df.columns.tolist()\n",
    "    col=col[-2:]+col[:-2]\n",
    "    df=df[col]\n",
    "    \n",
    "    return df\n",
    "\n",
    "for i in sheet_list:\n",
    "    data=pd.read_excel(\"superstore_data.xlsx\",sheet_name= i,header=None)\n",
    "    train=data.iloc[5:76,15:24]\n",
    "    test=data.iloc[79:92,15:24]\n",
    "    \n",
    "    dt_start='12/1/2012'\n",
    "    train=processing(train,dt_start,i)\n",
    "    \n",
    "    dt_start='11/1/2018'\n",
    "    test=processing(test,dt_start,i)\n",
    "    test[\"Product\"]=['Soap_Bar', 'Shampoo', 'Tooth_Paste', 'Metal_Polish', 'Edible_Oil', 'Washing_Powder', 'Ghee', 'Hair_Oil', 'Biscuits']*13\n",
    "    \n",
    "\n",
    "    train=pd.concat([train1,train],axis=0)\n",
    "    test=pd.concat([test1,test],axis=0)\n",
    "    \n",
    "    train1=train\n",
    "    test1=test\n",
    "\n",
    "    \n",
    "train.to_csv('SuperStore_train_mod.csv', index = False)\n",
    "test.to_csv('SuperStore_test_mod.csv', index = False)\n",
    "\n",
    "    \n",
    "end_time=time.process_time()\n",
    "print(start_time, \"\\n\",end_time, \"\\n\",(end_time - start_time), \"seconds\") \n"
   ]
  },
  {
   "cell_type": "code",
   "execution_count": null,
   "metadata": {},
   "outputs": [],
   "source": []
  }
 ],
 "metadata": {
  "kernelspec": {
   "display_name": "Python 3",
   "language": "python",
   "name": "python3"
  },
  "language_info": {
   "codemirror_mode": {
    "name": "ipython",
    "version": 3
   },
   "file_extension": ".py",
   "mimetype": "text/x-python",
   "name": "python",
   "nbconvert_exporter": "python",
   "pygments_lexer": "ipython3",
   "version": "3.7.4"
  }
 },
 "nbformat": 4,
 "nbformat_minor": 2
}
